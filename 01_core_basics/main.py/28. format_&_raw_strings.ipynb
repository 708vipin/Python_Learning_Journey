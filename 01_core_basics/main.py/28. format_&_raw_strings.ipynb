{
 "cells": [
  {
   "cell_type": "code",
   "execution_count": null,
   "id": "f30b75da",
   "metadata": {},
   "outputs": [],
   "source": [
    "#format strings are a way to inject variables into strings in Python.\n",
    "#there are 3 ways to do this\n",
    "#they are prefixed with f\"\" and use curly braces "
   ]
  },
  {
   "cell_type": "code",
   "execution_count": 4,
   "id": "42560760",
   "metadata": {},
   "outputs": [
    {
     "data": {
      "text/plain": [
       "'Vipin secured AIR 1 in the UPSC 2026 exam'"
      ]
     },
     "execution_count": 4,
     "metadata": {},
     "output_type": "execute_result"
    }
   ],
   "source": [
    "#First method\n",
    "name = \"Vipin\"\n",
    "rank = 1\n",
    "f\"{name} secured AIR {rank} in the UPSC 2026 exam\""
   ]
  },
  {
   "cell_type": "code",
   "execution_count": 6,
   "id": "7831fa46",
   "metadata": {},
   "outputs": [
    {
     "data": {
      "text/plain": [
       "'Ram is the son of Dashrath and he spent 14 years in exile.'"
      ]
     },
     "execution_count": 6,
     "metadata": {},
     "output_type": "execute_result"
    }
   ],
   "source": [
    "#Second method - using str.format()\n",
    "name = \"Ram\"\n",
    "years = 14\n",
    "\"{} is the son of Dashrath and he spent {} years in exile.\".format(name, years)"
   ]
  },
  {
   "cell_type": "code",
   "execution_count": 7,
   "id": "203ca07b",
   "metadata": {},
   "outputs": [
    {
     "name": "stdout",
     "output_type": "stream",
     "text": [
      " Rahul is 2 years younger than Vipin.\n"
     ]
    }
   ],
   "source": [
    "#Third method - using % operator\n",
    "name = \"Rahul\"\n",
    "age_diff = 2\n",
    "print(\" %s is %d years younger than Vipin.\" %(name, age_diff))\n"
   ]
  },
  {
   "cell_type": "code",
   "execution_count": 9,
   "id": "f1ef642c",
   "metadata": {},
   "outputs": [
    {
     "name": "stdout",
     "output_type": "stream",
     "text": [
      "Regular String: C:\n",
      "ew_folder\file.txt\n"
     ]
    }
   ],
   "source": [
    "#Raw_strings\n",
    "#prefixed with r\"\"\n",
    "regular_string = \"C:\\new_folder\\file.txt\"\n",
    "print(\"Regular String:\", regular_string)\n",
    "#without using r\"\" \\n is treated as a new line character and \\f is treated as an escape sequence."
   ]
  },
  {
   "cell_type": "code",
   "execution_count": 11,
   "id": "8daf1e5e",
   "metadata": {},
   "outputs": [
    {
     "name": "stdout",
     "output_type": "stream",
     "text": [
      "Regular String: C:\\new_folder\\file.txt\n"
     ]
    }
   ],
   "source": [
    "#Raw_strings\n",
    "regular_string = r\"C:\\new_folder\\file.txt\"\n",
    "print(\"Regular String:\", regular_string)"
   ]
  }
 ],
 "metadata": {
  "kernelspec": {
   "display_name": "Python 3",
   "language": "python",
   "name": "python3"
  },
  "language_info": {
   "codemirror_mode": {
    "name": "ipython",
    "version": 3
   },
   "file_extension": ".py",
   "mimetype": "text/x-python",
   "name": "python",
   "nbconvert_exporter": "python",
   "pygments_lexer": "ipython3",
   "version": "3.13.7"
  }
 },
 "nbformat": 4,
 "nbformat_minor": 5
}
