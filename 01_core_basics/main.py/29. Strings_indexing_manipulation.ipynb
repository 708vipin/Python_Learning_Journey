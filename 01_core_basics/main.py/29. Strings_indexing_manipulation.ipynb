{
 "cells": [
  {
   "cell_type": "code",
   "execution_count": null,
   "id": "9ff2ee0b",
   "metadata": {},
   "outputs": [
    {
     "name": "stdout",
     "output_type": "stream",
     "text": [
      "c\n",
      "hari\n"
     ]
    }
   ],
   "source": [
    "#Strings are ordered sequence of characters.\n",
    "Epic = \"Ramcharitmanas\"\n",
    "#Indexing\n",
    "print(Epic[3])\n",
    "print(Epic[4:8])"
   ]
  },
  {
   "cell_type": "code",
   "execution_count": 9,
   "id": "49b9151f",
   "metadata": {},
   "outputs": [
    {
     "name": "stdout",
     "output_type": "stream",
     "text": [
      "d\n"
     ]
    }
   ],
   "source": [
    "#Negative indexing of strings\n",
    "Upanishads = \"Ish Ken Katha Prashna Munda Mandukya Aitreya Taittiriyam Cha Chandogyam Brihadaranyak upanishad\"\n",
    "print(Upanishads[-1])\n"
   ]
  },
  {
   "cell_type": "code",
   "execution_count": 10,
   "id": "2ae5bde6",
   "metadata": {},
   "outputs": [
    {
     "data": {
      "text/plain": [
       "95"
      ]
     },
     "execution_count": 10,
     "metadata": {},
     "output_type": "execute_result"
    }
   ],
   "source": [
    "#Length of a string\n",
    "Upanishads = \"Ish Ken Katha Prashna Munda Mandukya Aitreya Taittiriyam Cha Chandogyam Brihadaranyak upanishad\"\n",
    "len(Upanishads)"
   ]
  },
  {
   "cell_type": "code",
   "execution_count": 12,
   "id": "d5200613",
   "metadata": {},
   "outputs": [
    {
     "data": {
      "text/plain": [
       "'Ish Ken Katha Prashna'"
      ]
     },
     "execution_count": 12,
     "metadata": {},
     "output_type": "execute_result"
    }
   ],
   "source": [
    "#Slicing of a string\n",
    "Upanishads = \"Ish Ken Katha Prashna Munda Mandukya Aitreya Taittiriyam Cha Chandogyam Brihadaranyak upanishad\"\n",
    "Upanishads[0:21]"
   ]
  },
  {
   "cell_type": "code",
   "execution_count": 13,
   "id": "d8c74ae6",
   "metadata": {},
   "outputs": [
    {
     "data": {
      "text/plain": [
       "'IetradnarTim dmha i'"
      ]
     },
     "execution_count": 13,
     "metadata": {},
     "output_type": "execute_result"
    }
   ],
   "source": [
    "#Stride\n",
    "Upanishads = \"Ish Ken Katha Prashna Munda Mandukya Aitreya Taittiriyam Cha Chandogyam Brihadaranyak upanishad\"\n",
    "Upanishads[::5]"
   ]
  },
  {
   "cell_type": "code",
   "execution_count": 14,
   "id": "d3ffba86",
   "metadata": {},
   "outputs": [
    {
     "data": {
      "text/plain": [
       "'I naarh n nk tyTtraC aoaBhankpia'"
      ]
     },
     "execution_count": 14,
     "metadata": {},
     "output_type": "execute_result"
    }
   ],
   "source": [
    "#Slicing with Stride\n",
    "Upanishads = \"Ish Ken Katha Prashna Munda Mandukya Aitreya Taittiriyam Cha Chandogyam Brihadaranyak upanishad\"\n",
    "Upanishads[0:95:3]"
   ]
  },
  {
   "cell_type": "code",
   "execution_count": null,
   "id": "f951daf0",
   "metadata": {},
   "outputs": [],
   "source": [
    "#String manipulation operations - upper, replace, find, split, search"
   ]
  },
  {
   "cell_type": "code",
   "execution_count": 17,
   "id": "9e69a59d",
   "metadata": {},
   "outputs": [
    {
     "name": "stdout",
     "output_type": "stream",
     "text": [
      "Python is \"awesome\"\n"
     ]
    }
   ],
   "source": [
    "#Regex - Regular Expressions - \n",
    "# to use Regex first import re\n",
    "print(\"Python is \\\"awesome\\\"\")"
   ]
  }
 ],
 "metadata": {
  "kernelspec": {
   "display_name": "Python 3",
   "language": "python",
   "name": "python3"
  },
  "language_info": {
   "codemirror_mode": {
    "name": "ipython",
    "version": 3
   },
   "file_extension": ".py",
   "mimetype": "text/x-python",
   "name": "python",
   "nbconvert_exporter": "python",
   "pygments_lexer": "ipython3",
   "version": "3.13.7"
  }
 },
 "nbformat": 4,
 "nbformat_minor": 5
}
