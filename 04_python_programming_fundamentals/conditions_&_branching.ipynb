{
 "cells": [
  {
   "cell_type": "code",
   "execution_count": null,
   "id": "2be19a17",
   "metadata": {},
   "outputs": [],
   "source": [
    "#if, elif, else statements\n",
    "# ==, != operators,\n",
    "#and, or not operators"
   ]
  },
  {
   "cell_type": "code",
   "execution_count": 1,
   "id": "90880d0e",
   "metadata": {},
   "outputs": [
    {
     "name": "stdout",
     "output_type": "stream",
     "text": [
      "Lionel Messi does not have more than 10 achievements.\n"
     ]
    }
   ],
   "source": [
    "#Consider the data player_name = Lionel Messi, sports = Football, Achievements = 7\n",
    "#Write a Python program to check if a player Lionel Messi has more than 10 achievements. If the condition is \n",
    "#true, print the player's name, sport, and achievements else print does not have more than 10 achievements.\n",
    "player_name = \"Lionel Messi\"\n",
    "sports = \"Football\"\n",
    "achievements = 7\n",
    "\n",
    "if achievements > 10:\n",
    "    print(f\"{player_name} plays {sports} and has {achievements} achievements.\")\n",
    "else:\n",
    "    print(f\"{player_name} does not have more than 10 achievements.\")"
   ]
  },
  {
   "cell_type": "code",
   "execution_count": null,
   "id": "f5b2df1c",
   "metadata": {},
   "outputs": [],
   "source": [
    "#Consider the following data\n",
    "#player_name = \"Roger Federer\"\n",
    "# sports = \"Tennis\"\n",
    "# achievements = 20\n",
    "#Write a Python program to check if a player belongs to the sport Tennis or has exactly 20 achievements.\n",
    "#If the condition is true, print a success message.\n",
    "player_name = \"Roger Federer\"\n",
    "sports = \"Tennis\"\n",
    "achievements = 20\n",
    "\n",
    "if achievements == 20 or sports == \"Tennis\":\n",
    "    print(f\"{player_name} meets the criteria!. He plays {sports} and has exactly {achievements} achievements.\")\n",
    "else:\n",
    "    print(f\"{player_name} does meets the criteria.\")"
   ]
  }
 ],
 "metadata": {
  "kernelspec": {
   "display_name": "Python 3",
   "language": "python",
   "name": "python3"
  },
  "language_info": {
   "codemirror_mode": {
    "name": "ipython",
    "version": 3
   },
   "file_extension": ".py",
   "mimetype": "text/x-python",
   "name": "python",
   "nbconvert_exporter": "python",
   "pygments_lexer": "ipython3",
   "version": "3.13.7"
  }
 },
 "nbformat": 4,
 "nbformat_minor": 5
}
