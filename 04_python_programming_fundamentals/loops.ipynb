{
 "cells": [
  {
   "cell_type": "code",
   "execution_count": null,
   "id": "cf6a11cc",
   "metadata": {},
   "outputs": [],
   "source": [
    "#loops - for, while\n",
    "#functions - range, enumerate\n",
    "#enumerate function not only keeps track of index but also of the actual value."
   ]
  },
  {
   "cell_type": "code",
   "execution_count": 1,
   "id": "f9d673a1",
   "metadata": {},
   "outputs": [
    {
     "name": "stdout",
     "output_type": "stream",
     "text": [
      "-5\n",
      "-4\n",
      "-3\n",
      "-2\n",
      "-1\n",
      "0\n",
      "1\n",
      "2\n",
      "3\n",
      "4\n"
     ]
    }
   ],
   "source": [
    "#Write a for loop that prints out all the elements between -5 and 5 using the range function.\n",
    "for i in range(-5,5):\n",
    "    print(i)"
   ]
  },
  {
   "cell_type": "code",
   "execution_count": 2,
   "id": "4424f5ab",
   "metadata": {},
   "outputs": [
    {
     "name": "stdout",
     "output_type": "stream",
     "text": [
      "['rock', 'R&B', 'Soundtrack', 'R&B', 'soul', 'pop']\n"
     ]
    }
   ],
   "source": [
    "#Print the elements of the following list: Genres=[ 'rock', 'R&B', 'Soundtrack', 'R&B', 'soul', 'pop'].\n",
    "Genres=[ 'rock', 'R&B', 'Soundtrack', 'R&B', 'soul', 'pop']\n",
    "for i, genre in enumerate([Genres]):\n",
    "    print(genre)\n"
   ]
  },
  {
   "cell_type": "code",
   "execution_count": 3,
   "id": "9dd9a769",
   "metadata": {},
   "outputs": [
    {
     "name": "stdout",
     "output_type": "stream",
     "text": [
      "['red', 'yellow', 'green', 'purple', 'blue']\n"
     ]
    }
   ],
   "source": [
    "#Write a for loop that prints out the following list: squares=['red', 'yellow', 'green', 'purple', 'blue']\n",
    "squares=['red', 'yellow', 'green', 'purple', 'blue']\n",
    "for i, square in enumerate([squares]):\n",
    "    print(square)"
   ]
  },
  {
   "cell_type": "code",
   "execution_count": 15,
   "id": "6f256a8b",
   "metadata": {},
   "outputs": [
    {
     "name": "stdout",
     "output_type": "stream",
     "text": [
      "10\n",
      "9.5\n",
      "10\n",
      "8\n",
      "7.5\n"
     ]
    }
   ],
   "source": [
    "#Write a while loop to display the values of the Rating of an album playlist stored in thePlayListRatings list. \n",
    "# If the score is less than 6, exit the loop. \n",
    "# The list PlayListRatings is given by: PlayListRatings = [10, 9.5, 10, 8, 7.5, 5, 10, 10]\n",
    "\n",
    "PlayListRatings = [10, 9.5, 10, 8, 7.5, 5, 10, 10]\n",
    "\n",
    "i = 0\n",
    "rating = PlayListRatings[0]\n",
    "\n",
    "while i < len(PlayListRatings) and rating >= 6:\n",
    "    print(rating)\n",
    "    i = i + 1\n",
    "    rating = PlayListRatings[i]\n",
    "    \n",
    "    "
   ]
  },
  {
   "cell_type": "code",
   "execution_count": 22,
   "id": "1689b37d",
   "metadata": {},
   "outputs": [
    {
     "data": {
      "text/plain": [
       "['orange', 'orange']"
      ]
     },
     "execution_count": 22,
     "metadata": {},
     "output_type": "execute_result"
    }
   ],
   "source": [
    "#Write a while loop to copy the strings 'orange' of the list squares to the list new_squares. \n",
    "#stop and exit the loop if the value on the list is not 'orange':\n",
    "\n",
    "squares = ['orange', 'orange', 'purple', 'blue ', 'orange']\n",
    "new_squares = []\n",
    "\n",
    "i  = 0\n",
    "color = squares[0]\n",
    "\n",
    "while i < len(squares) and color == \"orange\":\n",
    "   new_squares.append(color)\n",
    "   i = i + 1\n",
    "   color = squares[i]\n",
    "new_squares   "
   ]
  }
 ],
 "metadata": {
  "kernelspec": {
   "display_name": "Python 3",
   "language": "python",
   "name": "python3"
  },
  "language_info": {
   "codemirror_mode": {
    "name": "ipython",
    "version": 3
   },
   "file_extension": ".py",
   "mimetype": "text/x-python",
   "name": "python",
   "nbconvert_exporter": "python",
   "pygments_lexer": "ipython3",
   "version": "3.13.7"
  }
 },
 "nbformat": 4,
 "nbformat_minor": 5
}
