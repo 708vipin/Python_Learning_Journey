{
 "cells": [
  {
   "cell_type": "code",
   "execution_count": null,
   "id": "0289d409",
   "metadata": {},
   "outputs": [],
   "source": [
    "#Function is a reusable block of code that performs operations specified in the function.\n",
    "#functions in python begins with def followed by name of the function and paranthesis\n",
    "#body of function starts with : and is indented\n",
    "#the return statement exits a function\n",
    "#Global scope and local scope of a variable"
   ]
  },
  {
   "cell_type": "code",
   "execution_count": 1,
   "id": "e06e50a1",
   "metadata": {},
   "outputs": [
    {
     "data": {
      "text/plain": [
       "2.0"
      ]
     },
     "execution_count": 1,
     "metadata": {},
     "output_type": "execute_result"
    }
   ],
   "source": [
    "#Come up with a function that divides the first input by the second input:\n",
    "\n",
    "def divider (a,b):\n",
    "    c = a/b\n",
    "    return c\n",
    "\n",
    "divider(6,3)"
   ]
  },
  {
   "cell_type": "code",
   "execution_count": 4,
   "id": "7bea5f17",
   "metadata": {},
   "outputs": [
    {
     "name": "stdout",
     "output_type": "stream",
     "text": [
      "The frequency of the word is: {'Mary': 6, 'had': 2, 'a': 2, 'little': 3, 'lamb': 3, 'Little': 1, 'lamb,': 1, 'lamb.Its': 1, 'fleece': 1, 'was': 2, 'white': 1, 'as': 1, 'snow': 1, 'And': 1, 'everywhere': 1, 'that': 2, 'went': 3, 'went,': 1, 'Everywhere': 1, 'The': 1, 'sure': 1, 'to': 1, 'go': 1}\n"
     ]
    }
   ],
   "source": [
    "#Write a function code to find total count of word little in the given string:\n",
    "#\"Mary had a little lamb Little lamb, little lamb Mary had a little lamb.\n",
    "#Its fleece was white as snow And everywhere that Mary went Mary went, Mary went Everywhere that Mary went The lamb was sure to go\"**\n",
    "\n",
    "para_string = \"Mary had a little lamb Little lamb, little lamb Mary had a little lamb.Its fleece was white as snow And everywhere that Mary went Mary went, Mary went Everywhere that Mary went The lamb was sure to go\"\n",
    "\n",
    "def count_little (paragraph):\n",
    "    para_list = []\n",
    "    para_list = paragraph.split()\n",
    "    Dict = {}\n",
    "    for i in para_list:\n",
    "       Dict[i] = para_list.count(i)\n",
    "    print(\"The frequency of the word is:\", Dict)   \n",
    "\n",
    " \n",
    "count_little(para_string)\n",
    "\n",
    "    \n"
   ]
  }
 ],
 "metadata": {
  "kernelspec": {
   "display_name": "Python 3",
   "language": "python",
   "name": "python3"
  },
  "language_info": {
   "codemirror_mode": {
    "name": "ipython",
    "version": 3
   },
   "file_extension": ".py",
   "mimetype": "text/x-python",
   "name": "python",
   "nbconvert_exporter": "python",
   "pygments_lexer": "ipython3",
   "version": "3.13.7"
  }
 },
 "nbformat": 4,
 "nbformat_minor": 5
}
