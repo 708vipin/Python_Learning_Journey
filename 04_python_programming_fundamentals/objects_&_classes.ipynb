{
 "cells": [
  {
   "cell_type": "code",
   "execution_count": null,
   "id": "bba8f444",
   "metadata": {},
   "outputs": [
    {
     "data": {
      "text/plain": [
       "['__abs__',\n",
       " '__add__',\n",
       " '__and__',\n",
       " '__bool__',\n",
       " '__ceil__',\n",
       " '__class__',\n",
       " '__delattr__',\n",
       " '__dir__',\n",
       " '__divmod__',\n",
       " '__doc__',\n",
       " '__eq__',\n",
       " '__float__',\n",
       " '__floor__',\n",
       " '__floordiv__',\n",
       " '__format__',\n",
       " '__ge__',\n",
       " '__getattribute__',\n",
       " '__getnewargs__',\n",
       " '__getstate__',\n",
       " '__gt__',\n",
       " '__hash__',\n",
       " '__index__',\n",
       " '__init__',\n",
       " '__init_subclass__',\n",
       " '__int__',\n",
       " '__invert__',\n",
       " '__le__',\n",
       " '__lshift__',\n",
       " '__lt__',\n",
       " '__mod__',\n",
       " '__mul__',\n",
       " '__ne__',\n",
       " '__neg__',\n",
       " '__new__',\n",
       " '__or__',\n",
       " '__pos__',\n",
       " '__pow__',\n",
       " '__radd__',\n",
       " '__rand__',\n",
       " '__rdivmod__',\n",
       " '__reduce__',\n",
       " '__reduce_ex__',\n",
       " '__repr__',\n",
       " '__rfloordiv__',\n",
       " '__rlshift__',\n",
       " '__rmod__',\n",
       " '__rmul__',\n",
       " '__ror__',\n",
       " '__round__',\n",
       " '__rpow__',\n",
       " '__rrshift__',\n",
       " '__rshift__',\n",
       " '__rsub__',\n",
       " '__rtruediv__',\n",
       " '__rxor__',\n",
       " '__setattr__',\n",
       " '__sizeof__',\n",
       " '__str__',\n",
       " '__sub__',\n",
       " '__subclasshook__',\n",
       " '__truediv__',\n",
       " '__trunc__',\n",
       " '__xor__',\n",
       " 'as_integer_ratio',\n",
       " 'bit_count',\n",
       " 'bit_length',\n",
       " 'conjugate',\n",
       " 'denominator',\n",
       " 'from_bytes',\n",
       " 'imag',\n",
       " 'is_integer',\n",
       " 'numerator',\n",
       " 'real',\n",
       " 'to_bytes']"
      ]
     },
     "execution_count": 1,
     "metadata": {},
     "output_type": "execute_result"
    }
   ],
   "source": [
    "dir(int) #dir() is used to get the list of all methods of an object."
   ]
  },
  {
   "cell_type": "code",
   "execution_count": null,
   "id": "f36c0f5e",
   "metadata": {},
   "outputs": [],
   "source": [
    "#Both the attributes & the methods can be accessed using the dot notation.\n",
    "#Task-1. You are tasked with creating a Python program to represent vehicles using a class.\n",
    "#Each car should have attributes for maximum speed and mileage.\n",
    "class Vehicles (object):\n",
    "    def _init_ (self, max_speed, mileage):\n",
    "        self.max_speed = max_speed,\n",
    "        self.mileage = mileage"
   ]
  },
  {
   "cell_type": "code",
   "execution_count": null,
   "id": "50c9bf78",
   "metadata": {},
   "outputs": [],
   "source": [
    "#Task-2. Update the class with the default color for all vehicles,\" white\".\n",
    "class Vehicle:\n",
    "    color = \"white\"\n",
    "\n",
    "    def _init_ (self, max_speed, mileage):\n",
    "        self.max_speed = max_speed,\n",
    "        self.mileage = mileage"
   ]
  },
  {
   "cell_type": "code",
   "execution_count": null,
   "id": "ff752ce0",
   "metadata": {},
   "outputs": [],
   "source": [
    "#Task-3. Additionally, you need to create methods in the Vehicle class to assign seating capacity to a vehicle.\n",
    "class Vehicle:\n",
    "    color = \"white\"\n",
    "\n",
    "    def _init_ (self, max_speed, mileage):\n",
    "        self.max_speed = max_speed,\n",
    "        self.mileage = mileage\n",
    "\n",
    "    def seating_capacity(self, seating_capacity):\n",
    "        self.seating_capacity = seating_capacity \n",
    "               "
   ]
  },
  {
   "cell_type": "code",
   "execution_count": null,
   "id": "4d03cd07",
   "metadata": {},
   "outputs": [],
   "source": [
    "#Task-4. Create a method to display all the properties of an object of the class.\n",
    "class Vehicle:\n",
    "    color = \"white\"\n",
    "    def _init_ (self, speed, mileage):\n",
    "        self.speed = speed,\n",
    "        self.mileage = mileage\n",
    "\n",
    "    def seating_capacity(self, seating_capacity):\n",
    "        self.seating_capacity = seating_capacity\n",
    "\n",
    "    def display_properties(self):\n",
    "        print(\"Properties of the class vehicle are:\")\n",
    "        print(\"Color:\", self.color)\n",
    "        print(\"Speed:\", self.speed)\n",
    "        print(\"Mileage:\", self.mileage)\n",
    "        print(\"Seating_Capacity:\", self.seating_capacity)"
   ]
  },
  {
   "cell_type": "code",
   "execution_count": null,
   "id": "efb93103",
   "metadata": {},
   "outputs": [],
   "source": [
    "#### Task-5. Additionally, you need to create two objects of the Vehicle class object that should have a max speed of 200kmph and mileage of 20kmpl with five seating capacities,\n",
    "#another car object should have a max speed of 180kmph and mileage of 25kmpl with four seating capacities.\n",
    "vehicle1 = Vehicle(200, 20)\n",
    "vehicle1.assign_seating_capacity(5)\n",
    "vehicle1.display_properties()\n",
    "\n",
    "vehicle2 = Vehicle(180, 25)\n",
    "vehicle2.assign_seating_capacity(4)\n",
    "vehicle2.display_properties()\n"
   ]
  }
 ],
 "metadata": {
  "kernelspec": {
   "display_name": "Python 3",
   "language": "python",
   "name": "python3"
  },
  "language_info": {
   "codemirror_mode": {
    "name": "ipython",
    "version": 3
   },
   "file_extension": ".py",
   "mimetype": "text/x-python",
   "name": "python",
   "nbconvert_exporter": "python",
   "pygments_lexer": "ipython3",
   "version": "3.13.7"
  }
 },
 "nbformat": 4,
 "nbformat_minor": 5
}
