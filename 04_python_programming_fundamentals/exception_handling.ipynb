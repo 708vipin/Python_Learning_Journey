{
 "cells": [
  {
   "cell_type": "code",
   "execution_count": 3,
   "id": "7f3f4dde",
   "metadata": {},
   "outputs": [
    {
     "name": "stdout",
     "output_type": "stream",
     "text": [
      "36.0\n"
     ]
    }
   ],
   "source": [
    "#Imagine you have a number and want to calculate its square root. To do this, you need to create a Python function. \n",
    "#You give this function one number, 'number1'.\n",
    "#The function should generate the square root value if you provide a positive integer or float value as input. \n",
    "#However, the function should be clever enough to detect the mistake if you enter a negative value.\n",
    "#It should kindly inform you with a message saying, 'Invalid input! Please enter a positive integer or a float value.\n",
    "\n",
    "import math\n",
    "def square_root (number1):\n",
    "    try:\n",
    "        b = math.sqrt(number1)\n",
    "        return b\n",
    "    except:\n",
    "        print(\"Invalid input! Please enter a positive integer or a float value.\")\n",
    "        return None\n",
    "\n",
    "number1 = 1296\n",
    "print(square_root(number1))\n",
    "\n",
    "\n",
    "\n",
    "\n"
   ]
  }
 ],
 "metadata": {
  "kernelspec": {
   "display_name": "Python 3",
   "language": "python",
   "name": "python3"
  },
  "language_info": {
   "codemirror_mode": {
    "name": "ipython",
    "version": 3
   },
   "file_extension": ".py",
   "mimetype": "text/x-python",
   "name": "python",
   "nbconvert_exporter": "python",
   "pygments_lexer": "ipython3",
   "version": "3.13.7"
  }
 },
 "nbformat": 4,
 "nbformat_minor": 5
}
