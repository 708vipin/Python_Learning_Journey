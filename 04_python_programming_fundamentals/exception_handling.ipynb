{
 "cells": [
  {
   "cell_type": "code",
   "execution_count": null,
   "id": "7f3f4dde",
   "metadata": {},
   "outputs": [],
   "source": [
    "#Imagine you have a number and want to calculate its square root. To do this, you need to create a Python function. \n",
    "#You give this function one number, 'number1'.\n",
    "#The function should generate the square root value if you provide a positive integer or float value as input. \n",
    "#However, the function should be clever enough to detect the mistake if you enter a negative value.\n",
    "#It should kindly inform you with a message saying, 'Invalid input! Please enter a positive integer or a float value."
   ]
  }
 ],
 "metadata": {
  "language_info": {
   "name": "python"
  }
 },
 "nbformat": 4,
 "nbformat_minor": 5
}
