{
 "cells": [
  {
   "cell_type": "code",
   "execution_count": null,
   "id": "aeeb20c2",
   "metadata": {},
   "outputs": [],
   "source": [
    "#Dictionaries are denote with {}\n",
    "#Consists of Key Value pairs.\n",
    "#Keys have to be UNIQUE and IMMUTABLE.\n",
    "#key & values are separated by colon.\n",
    "#different key value pairs are separated by comma.\n",
    "#to access a value from a dictionary, write dict_name[key]\n",
    "#For every key, there can only be one single value, however, multiple keys can hold the same value"
   ]
  },
  {
   "cell_type": "code",
   "execution_count": 3,
   "id": "5e71c847",
   "metadata": {},
   "outputs": [
    {
     "data": {
      "text/plain": [
       "{'key1': 1,\n",
       " 'key2': 2,\n",
       " 'key3': [3, 3, 3],\n",
       " 'key4': (4, 4, 4),\n",
       " 'key5': 5,\n",
       " (0, 1): 6}"
      ]
     },
     "execution_count": 3,
     "metadata": {},
     "output_type": "execute_result"
    }
   ],
   "source": [
    "#Create a dictionary\n",
    "Dict = {\"key1\": 1 , \"key2\": 2 , \"key3\": [3,3,3], \"key4\": (4,4,4), \"key5\": 5, (0,1): 6}\n",
    "Dict"
   ]
  },
  {
   "cell_type": "code",
   "execution_count": 5,
   "id": "83c70aad",
   "metadata": {},
   "outputs": [
    {
     "data": {
      "text/plain": [
       "6"
      ]
     },
     "execution_count": 5,
     "metadata": {},
     "output_type": "execute_result"
    }
   ],
   "source": [
    "#Access the value of the key\n",
    "Dict[(0,1)]"
   ]
  },
  {
   "cell_type": "code",
   "execution_count": 6,
   "id": "e7db287f",
   "metadata": {},
   "outputs": [
    {
     "data": {
      "text/plain": [
       "dict_keys(['key1', 'key2', 'key3', 'key4', 'key5', (0, 1)])"
      ]
     },
     "execution_count": 6,
     "metadata": {},
     "output_type": "execute_result"
    }
   ],
   "source": [
    "#Get all the key of the dictionary\n",
    "Dict.keys()\n"
   ]
  },
  {
   "cell_type": "code",
   "execution_count": 7,
   "id": "af639b83",
   "metadata": {},
   "outputs": [
    {
     "data": {
      "text/plain": [
       "dict_values([1, 2, [3, 3, 3], (4, 4, 4), 5, 6])"
      ]
     },
     "execution_count": 7,
     "metadata": {},
     "output_type": "execute_result"
    }
   ],
   "source": [
    "#Get the values of the dictionary\n",
    "Dict.values()"
   ]
  },
  {
   "cell_type": "code",
   "execution_count": 8,
   "id": "bbc1ea2c",
   "metadata": {},
   "outputs": [
    {
     "data": {
      "text/plain": [
       "{'key1': 1,\n",
       " 'key2': 2,\n",
       " 'key3': [3, 3, 3],\n",
       " 'key4': (4, 4, 4),\n",
       " 'key5': 5,\n",
       " (0, 1): 6,\n",
       " 'IAS_Rank': 1}"
      ]
     },
     "execution_count": 8,
     "metadata": {},
     "output_type": "execute_result"
    }
   ],
   "source": [
    "#Append values with key in the dictionary\n",
    "Dict[\"IAS_Rank\"]= 1\n",
    "Dict"
   ]
  },
  {
   "cell_type": "code",
   "execution_count": null,
   "id": "26603069",
   "metadata": {},
   "outputs": [
    {
     "data": {
      "text/plain": [
       "{'key2': 2, 'key3': [3, 3, 3], 'key4': (4, 4, 4), 'IAS_Rank': 1}"
      ]
     },
     "execution_count": 18,
     "metadata": {},
     "output_type": "execute_result"
    }
   ],
   "source": [
    "#Delete an entry of a key - del Dict[(0,1)] - IDK why this command is not working - now it seems to be working \n",
    "del(Dict[\"key5\"])\n",
    "Dict"
   ]
  },
  {
   "cell_type": "code",
   "execution_count": 19,
   "id": "a1750197",
   "metadata": {},
   "outputs": [
    {
     "data": {
      "text/plain": [
       "False"
      ]
     },
     "execution_count": 19,
     "metadata": {},
     "output_type": "execute_result"
    }
   ],
   "source": [
    "#Verify the key is in the dictionary\n",
    "'key5' in Dict"
   ]
  },
  {
   "cell_type": "code",
   "execution_count": 13,
   "id": "88f1107f",
   "metadata": {},
   "outputs": [],
   "source": [
    "#Create an empty dictionary named inventory\n",
    "inventory = {}"
   ]
  },
  {
   "cell_type": "code",
   "execution_count": 14,
   "id": "73ae019b",
   "metadata": {},
   "outputs": [
    {
     "data": {
      "text/plain": [
       "{'product1_name': 'OppoF19Pro+',\n",
       " 'product1_price': 16000,\n",
       " 'product1_purchase_year': 2022,\n",
       " 'product1_warranty': 2,\n",
       " 'product2_name': 'iQOO',\n",
       " 'product2_price': 20000,\n",
       " 'product2_purchase_year': 2021,\n",
       " 'product2_warranty': 3}"
      ]
     },
     "execution_count": 14,
     "metadata": {},
     "output_type": "execute_result"
    }
   ],
   "source": [
    "#Add details of products to dictionary\n",
    "inventory[\"product1_name\"] = \"OppoF19Pro+\"\n",
    "inventory[\"product1_price\"] = 16000\n",
    "inventory[\"product1_purchase_year\"]= 2022\n",
    "inventory[\"product1_warranty\"] = 2\n",
    "inventory[\"product2_name\"]=\"iQOO\"\n",
    "inventory[\"product2_price\"]=20000\n",
    "inventory[\"product2_purchase_year\"]=2021\n",
    "inventory[\"product2_warranty\"] = 3\n",
    "inventory"
   ]
  }
 ],
 "metadata": {
  "kernelspec": {
   "display_name": "Python 3",
   "language": "python",
   "name": "python3"
  },
  "language_info": {
   "codemirror_mode": {
    "name": "ipython",
    "version": 3
   },
   "file_extension": ".py",
   "mimetype": "text/x-python",
   "name": "python",
   "nbconvert_exporter": "python",
   "pygments_lexer": "ipython3",
   "version": "3.13.7"
  }
 },
 "nbformat": 4,
 "nbformat_minor": 5
}
