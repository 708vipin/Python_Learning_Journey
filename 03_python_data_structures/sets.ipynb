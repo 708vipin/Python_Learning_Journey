{
 "cells": [
  {
   "cell_type": "code",
   "execution_count": null,
   "id": "0561296a",
   "metadata": {},
   "outputs": [],
   "source": [
    "#A set in Python is a collection of unique objects. \n",
    "#A set is denoted with a pair of curly brackerts {}.\n"
   ]
  },
  {
   "cell_type": "code",
   "execution_count": 1,
   "id": "4868645d",
   "metadata": {},
   "outputs": [
    {
     "data": {
      "text/plain": [
       "{'electronic music', 'house', 'rap'}"
      ]
     },
     "execution_count": 1,
     "metadata": {},
     "output_type": "execute_result"
    }
   ],
   "source": [
    "#Convert the list ['rap','house','electronic music', 'rap'] to a set:\n",
    "set(['rap','house','electronic music', 'rap'])"
   ]
  },
  {
   "cell_type": "code",
   "execution_count": 2,
   "id": "4791f945",
   "metadata": {},
   "outputs": [
    {
     "name": "stdout",
     "output_type": "stream",
     "text": [
      "the sum of of sum(A) is: 6\n",
      "the sum of sum(B) is: 3\n"
     ]
    }
   ],
   "source": [
    "#Consider the list A = [1, 2, 2, 1] and set B = set([1, 2, 2, 1]), does sum(A) == sum(B)?\n",
    "A = [1, 2, 2, 1]\n",
    "B = set([1, 2, 2, 1])\n",
    "sum(A)\n",
    "sum(B)\n",
    "print(\"the sum of of sum(A) is:\", sum(A))\n",
    "print(\"the sum of sum(B) is:\", sum(B)) "
   ]
  },
  {
   "cell_type": "code",
   "execution_count": 3,
   "id": "0fb641fc",
   "metadata": {},
   "outputs": [
    {
     "data": {
      "text/plain": [
       "{'AC/DC', 'Back in Black', 'The Dark Side of the Moon', 'Thriller'}"
      ]
     },
     "execution_count": 3,
     "metadata": {},
     "output_type": "execute_result"
    }
   ],
   "source": [
    "#Create a new set album_set3 that is the union of album_set1 and album_set2:\n",
    "album_set1 = set([\"Thriller\", 'AC/DC', 'Back in Black'])\n",
    "album_set2 = set([ \"AC/DC\", \"Back in Black\", \"The Dark Side of the Moon\"])\n",
    "album_set3 = album_set1.union(album_set2)\n",
    "album_set3"
   ]
  },
  {
   "cell_type": "code",
   "execution_count": 4,
   "id": "5f90c658",
   "metadata": {},
   "outputs": [
    {
     "data": {
      "text/plain": [
       "True"
      ]
     },
     "execution_count": 4,
     "metadata": {},
     "output_type": "execute_result"
    }
   ],
   "source": [
    "#Find out if album_set1 is a subset of album_set3:\n",
    "album_set1.issubset(album_set3)"
   ]
  }
 ],
 "metadata": {
  "kernelspec": {
   "display_name": "Python 3",
   "language": "python",
   "name": "python3"
  },
  "language_info": {
   "codemirror_mode": {
    "name": "ipython",
    "version": 3
   },
   "file_extension": ".py",
   "mimetype": "text/x-python",
   "name": "python",
   "nbconvert_exporter": "python",
   "pygments_lexer": "ipython3",
   "version": "3.13.7"
  }
 },
 "nbformat": 4,
 "nbformat_minor": 5
}
